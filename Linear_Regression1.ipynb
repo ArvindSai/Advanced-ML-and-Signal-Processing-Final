{
    "nbformat_minor": 1, 
    "cells": [
        {
            "source": "# First Notebook created in this project for Linear Regression", 
            "cell_type": "markdown", 
            "metadata": {
                "collapsed": true
            }
        }, 
        {
            "execution_count": 6, 
            "cell_type": "code", 
            "metadata": {}, 
            "outputs": [], 
            "source": "dp1= {'partno': 100, 'maxtemp': 35, 'mintemp': 35, 'maxvibration': 12, 'asperity': 0.32}\ndp2= {'partno': 101, 'maxtemp': 46, 'mintemp': 35, 'maxvibration': 21, 'asperity': 0.34}\ndp3= {'partno': 130, 'maxtemp': 56, 'mintemp': 35, 'maxvibration': 3412, 'asperity': 12.42}\ndp4= {'partno': 131, 'maxtemp': 58, 'mintemp': 35, 'maxvibration': 3542, 'asperity': 13.43}"
        }, 
        {
            "execution_count": 7, 
            "cell_type": "code", 
            "metadata": {}, 
            "outputs": [
                {
                    "execution_count": 7, 
                    "metadata": {}, 
                    "data": {
                        "text/plain": "{'asperity': 13.43,\n 'maxtemp': 58,\n 'maxvibration': 3542,\n 'mintemp': 35,\n 'partno': 131}"
                    }, 
                    "output_type": "execute_result"
                }
            ], 
            "source": "dp4"
        }, 
        {
            "execution_count": 14, 
            "cell_type": "code", 
            "metadata": {}, 
            "outputs": [], 
            "source": "def predict(dp):\n    if dp['maxvibration'] > 100:\n        return 13\n    else:\n        return 0.33"
        }, 
        {
            "execution_count": 15, 
            "cell_type": "code", 
            "metadata": {}, 
            "outputs": [
                {
                    "execution_count": 15, 
                    "metadata": {}, 
                    "data": {
                        "text/plain": "13"
                    }, 
                    "output_type": "execute_result"
                }
            ], 
            "source": "predict(dp3)"
        }, 
        {
            "execution_count": 16, 
            "cell_type": "code", 
            "metadata": {}, 
            "outputs": [
                {
                    "execution_count": 16, 
                    "metadata": {}, 
                    "data": {
                        "text/plain": "0.33"
                    }, 
                    "output_type": "execute_result"
                }
            ], 
            "source": "predict(dp2)"
        }, 
        {
            "execution_count": 17, 
            "cell_type": "code", 
            "metadata": {}, 
            "outputs": [
                {
                    "execution_count": 17, 
                    "metadata": {}, 
                    "data": {
                        "text/plain": "0.33"
                    }, 
                    "output_type": "execute_result"
                }
            ], 
            "source": "predict(dp1)"
        }, 
        {
            "execution_count": 21, 
            "cell_type": "code", 
            "metadata": {}, 
            "outputs": [], 
            "source": "# Define a slightly practical version of Linear Regression\ndef predict(dp):\n    return w1 + w2 * dp['maxtemp'] + w3 * dp['mintemp'] + w4 * dp['maxvibration']"
        }, 
        {
            "execution_count": 30, 
            "cell_type": "code", 
            "metadata": {}, 
            "outputs": [
                {
                    "execution_count": 30, 
                    "metadata": {}, 
                    "data": {
                        "text/plain": "0.3422039859320047"
                    }, 
                    "output_type": "execute_result"
                }
            ], 
            "source": "w1 = 0.3\nw2 = 0\nw3 = 0\nw4 = 12/3412\n\npredict(dp1)"
        }, 
        {
            "execution_count": 45, 
            "cell_type": "code", 
            "metadata": {}, 
            "outputs": [
                {
                    "output_type": "stream", 
                    "name": "stdout", 
                    "text": "+---+---+---+------------+--------------------+\n|  x|  y|  z|       Class|              Source|\n+---+---+---+------------+--------------------+\n| 55| 13| 35|Climb_stairs|Accelerometer-201...|\n| 12| 35| 36|Climb_stairs|Accelerometer-201...|\n| 13| 34| 35|Climb_stairs|Accelerometer-201...|\n| 12| 36| 36|Climb_stairs|Accelerometer-201...|\n| 12| 36| 36|Climb_stairs|Accelerometer-201...|\n| 12| 36| 35|Climb_stairs|Accelerometer-201...|\n| 14| 36| 34|Climb_stairs|Accelerometer-201...|\n| 12| 36| 35|Climb_stairs|Accelerometer-201...|\n| 11| 36| 35|Climb_stairs|Accelerometer-201...|\n| 12| 35| 36|Climb_stairs|Accelerometer-201...|\n| 11| 34| 35|Climb_stairs|Accelerometer-201...|\n| 12| 35| 37|Climb_stairs|Accelerometer-201...|\n| 13| 35| 37|Climb_stairs|Accelerometer-201...|\n| 10| 35| 36|Climb_stairs|Accelerometer-201...|\n|  8| 35| 38|Climb_stairs|Accelerometer-201...|\n|  9| 37| 38|Climb_stairs|Accelerometer-201...|\n| 13| 35| 37|Climb_stairs|Accelerometer-201...|\n| 13| 36| 37|Climb_stairs|Accelerometer-201...|\n| 13| 35| 37|Climb_stairs|Accelerometer-201...|\n| 14| 36| 37|Climb_stairs|Accelerometer-201...|\n+---+---+---+------------+--------------------+\nonly showing top 20 rows\n\n"
                }
            ], 
            "source": "# The code was removed by Watson Studio for sharing."
        }, 
        {
            "execution_count": 46, 
            "cell_type": "code", 
            "metadata": {}, 
            "outputs": [], 
            "source": "df = df_data_1"
        }, 
        {
            "execution_count": 47, 
            "cell_type": "code", 
            "metadata": {}, 
            "outputs": [], 
            "source": "df.createOrReplaceTempView('df')"
        }, 
        {
            "execution_count": 50, 
            "cell_type": "code", 
            "metadata": {}, 
            "outputs": [], 
            "source": "df_energy = spark.sql(\"\"\"\n\nselect sqrt(sum(x*x) + sum(y*y) + sum(z*z)) as label, class from df group by class\n\n\"\"\")\ndf_energy.createOrReplaceTempView('df_energy')"
        }, 
        {
            "execution_count": 51, 
            "cell_type": "code", 
            "metadata": {}, 
            "outputs": [
                {
                    "output_type": "stream", 
                    "name": "stdout", 
                    "text": "+---+---+---+------------+--------------------+------------------+------------+\n|  x|  y|  z|       Class|              Source|             label|       Class|\n+---+---+---+------------+--------------------+------------------+------------+\n| 55| 13| 35|Climb_stairs|Accelerometer-201...|11082.626493751379|Climb_stairs|\n| 12| 35| 36|Climb_stairs|Accelerometer-201...|11082.626493751379|Climb_stairs|\n| 13| 34| 35|Climb_stairs|Accelerometer-201...|11082.626493751379|Climb_stairs|\n| 12| 36| 36|Climb_stairs|Accelerometer-201...|11082.626493751379|Climb_stairs|\n| 12| 36| 36|Climb_stairs|Accelerometer-201...|11082.626493751379|Climb_stairs|\n| 12| 36| 35|Climb_stairs|Accelerometer-201...|11082.626493751379|Climb_stairs|\n| 14| 36| 34|Climb_stairs|Accelerometer-201...|11082.626493751379|Climb_stairs|\n| 12| 36| 35|Climb_stairs|Accelerometer-201...|11082.626493751379|Climb_stairs|\n| 11| 36| 35|Climb_stairs|Accelerometer-201...|11082.626493751379|Climb_stairs|\n| 12| 35| 36|Climb_stairs|Accelerometer-201...|11082.626493751379|Climb_stairs|\n| 11| 34| 35|Climb_stairs|Accelerometer-201...|11082.626493751379|Climb_stairs|\n| 12| 35| 37|Climb_stairs|Accelerometer-201...|11082.626493751379|Climb_stairs|\n| 13| 35| 37|Climb_stairs|Accelerometer-201...|11082.626493751379|Climb_stairs|\n| 10| 35| 36|Climb_stairs|Accelerometer-201...|11082.626493751379|Climb_stairs|\n|  8| 35| 38|Climb_stairs|Accelerometer-201...|11082.626493751379|Climb_stairs|\n|  9| 37| 38|Climb_stairs|Accelerometer-201...|11082.626493751379|Climb_stairs|\n| 13| 35| 37|Climb_stairs|Accelerometer-201...|11082.626493751379|Climb_stairs|\n| 13| 36| 37|Climb_stairs|Accelerometer-201...|11082.626493751379|Climb_stairs|\n| 13| 35| 37|Climb_stairs|Accelerometer-201...|11082.626493751379|Climb_stairs|\n| 14| 36| 37|Climb_stairs|Accelerometer-201...|11082.626493751379|Climb_stairs|\n+---+---+---+------------+--------------------+------------------+------------+\nonly showing top 20 rows\n\n"
                }
            ], 
            "source": "df_join = spark.sql(\"\"\"\n\nselect * from df inner join df_energy on df.class = df_energy.class\n\n\"\"\")\ndf_join.show()"
        }, 
        {
            "execution_count": 52, 
            "cell_type": "code", 
            "metadata": {}, 
            "outputs": [], 
            "source": "from pyspark.ml.feature import VectorAssembler\nfrom pyspark.ml.feature import Normalizer\n\nvectorAssembler = VectorAssembler(inputCols = [\"x\",\"y\",\"z\"], outputCol=\"features\")\nnormalizer = Normalizer(inputCol=\"features\",outputCol=\"features_norm\", p=1.0)"
        }, 
        {
            "execution_count": 53, 
            "cell_type": "code", 
            "metadata": {}, 
            "outputs": [], 
            "source": "from pyspark.ml.regression import LinearRegression"
        }, 
        {
            "execution_count": 54, 
            "cell_type": "code", 
            "metadata": {}, 
            "outputs": [], 
            "source": "lr = LinearRegression(maxIter=10, regParam = 0.3, elasticNetParam=0.8)"
        }, 
        {
            "execution_count": null, 
            "cell_type": "code", 
            "metadata": {}, 
            "outputs": [], 
            "source": "from pyspark.ml import Pipeline\npipeline = Pipeline(stages=[\"vectorAssembler\", \"\"])"
        }
    ], 
    "metadata": {
        "kernelspec": {
            "display_name": "Python 3.5 with Spark 2.1", 
            "name": "python3-spark21", 
            "language": "python"
        }, 
        "language_info": {
            "mimetype": "text/x-python", 
            "nbconvert_exporter": "python", 
            "version": "3.5.4", 
            "name": "python", 
            "file_extension": ".py", 
            "pygments_lexer": "ipython3", 
            "codemirror_mode": {
                "version": 3, 
                "name": "ipython"
            }
        }
    }, 
    "nbformat": 4
}