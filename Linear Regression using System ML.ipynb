{
    "nbformat_minor": 1, 
    "cells": [
        {
            "source": "# Load the Diabetes dataset from Scikit Learn", 
            "cell_type": "markdown", 
            "metadata": {
                "collapsed": true
            }
        }, 
        {
            "execution_count": 30, 
            "cell_type": "code", 
            "metadata": {
                "scrolled": true
            }, 
            "outputs": [
                {
                    "output_type": "stream", 
                    "name": "stdout", 
                    "text": "Collecting https://github.com/niketanpansare/future_of_data/raw/master/systemml-1.1.0-SNAPSHOT-python.tar.gz\n  Downloading https://github.com/niketanpansare/future_of_data/raw/master/systemml-1.1.0-SNAPSHOT-python.tar.gz (10.3MB)\n\u001b[K    100% |\u2588\u2588\u2588\u2588\u2588\u2588\u2588\u2588\u2588\u2588\u2588\u2588\u2588\u2588\u2588\u2588\u2588\u2588\u2588\u2588\u2588\u2588\u2588\u2588\u2588\u2588\u2588\u2588\u2588\u2588\u2588\u2588| 10.3MB 102kB/s eta 0:00:01\n\u001b[?25hCollecting numpy>=1.8.2 (from systemml==1.1.0)\n  Downloading https://files.pythonhosted.org/packages/0a/fa/afc1dc818589c9fd36a53f78999f2b5bd88bd5b167eb7d87fb56b565c185/numpy-1.15.1-cp35-cp35m-manylinux1_x86_64.whl (13.8MB)\n\u001b[K    100% |\u2588\u2588\u2588\u2588\u2588\u2588\u2588\u2588\u2588\u2588\u2588\u2588\u2588\u2588\u2588\u2588\u2588\u2588\u2588\u2588\u2588\u2588\u2588\u2588\u2588\u2588\u2588\u2588\u2588\u2588\u2588\u2588| 13.8MB 83kB/s  eta 0:00:01\n\u001b[?25hCollecting scipy>=0.15.1 (from systemml==1.1.0)\n  Downloading https://files.pythonhosted.org/packages/cd/32/5196b64476bd41d596a8aba43506e2403e019c90e1a3dfc21d51b83db5a6/scipy-1.1.0-cp35-cp35m-manylinux1_x86_64.whl (33.1MB)\n\u001b[K    100% |\u2588\u2588\u2588\u2588\u2588\u2588\u2588\u2588\u2588\u2588\u2588\u2588\u2588\u2588\u2588\u2588\u2588\u2588\u2588\u2588\u2588\u2588\u2588\u2588\u2588\u2588\u2588\u2588\u2588\u2588\u2588\u2588| 33.1MB 35kB/s  eta 0:00:01\n\u001b[?25hCollecting pandas (from systemml==1.1.0)\n  Downloading https://files.pythonhosted.org/packages/5d/d4/6e9c56a561f1d27407bf29318ca43f36ccaa289271b805a30034eb3a8ec4/pandas-0.23.4-cp35-cp35m-manylinux1_x86_64.whl (8.7MB)\n\u001b[K    100% |\u2588\u2588\u2588\u2588\u2588\u2588\u2588\u2588\u2588\u2588\u2588\u2588\u2588\u2588\u2588\u2588\u2588\u2588\u2588\u2588\u2588\u2588\u2588\u2588\u2588\u2588\u2588\u2588\u2588\u2588\u2588\u2588| 8.7MB 143kB/s eta 0:00:01\n\u001b[?25hCollecting scikit-learn (from systemml==1.1.0)\n  Downloading https://files.pythonhosted.org/packages/b6/e2/a1e254a4a4598588d4fe88b45ab88a226c289ecfd0f6c90474eb6a9ea6b3/scikit_learn-0.19.2-cp35-cp35m-manylinux1_x86_64.whl (4.9MB)\n\u001b[K    100% |\u2588\u2588\u2588\u2588\u2588\u2588\u2588\u2588\u2588\u2588\u2588\u2588\u2588\u2588\u2588\u2588\u2588\u2588\u2588\u2588\u2588\u2588\u2588\u2588\u2588\u2588\u2588\u2588\u2588\u2588\u2588\u2588| 4.9MB 259kB/s eta 0:00:01\n\u001b[?25hCollecting Pillow>=2.0.0 (from systemml==1.1.0)\n  Downloading https://files.pythonhosted.org/packages/3d/9e/b8a10bec874d2f6f2668b0d71ddf0d0a69ed9307d2ef111607adf81fdc1c/Pillow-5.2.0-cp35-cp35m-manylinux1_x86_64.whl (2.0MB)\n\u001b[K    100% |\u2588\u2588\u2588\u2588\u2588\u2588\u2588\u2588\u2588\u2588\u2588\u2588\u2588\u2588\u2588\u2588\u2588\u2588\u2588\u2588\u2588\u2588\u2588\u2588\u2588\u2588\u2588\u2588\u2588\u2588\u2588\u2588| 2.0MB 644kB/s eta 0:00:01\n\u001b[?25hCollecting pytz>=2011k (from pandas->systemml==1.1.0)\n  Downloading https://files.pythonhosted.org/packages/30/4e/27c34b62430286c6d59177a0842ed90dc789ce5d1ed740887653b898779a/pytz-2018.5-py2.py3-none-any.whl (510kB)\n\u001b[K    100% |\u2588\u2588\u2588\u2588\u2588\u2588\u2588\u2588\u2588\u2588\u2588\u2588\u2588\u2588\u2588\u2588\u2588\u2588\u2588\u2588\u2588\u2588\u2588\u2588\u2588\u2588\u2588\u2588\u2588\u2588\u2588\u2588| 512kB 2.5MB/s eta 0:00:01\n\u001b[?25hCollecting python-dateutil>=2.5.0 (from pandas->systemml==1.1.0)\n  Downloading https://files.pythonhosted.org/packages/cf/f5/af2b09c957ace60dcfac112b669c45c8c97e32f94aa8b56da4c6d1682825/python_dateutil-2.7.3-py2.py3-none-any.whl (211kB)\n\u001b[K    100% |\u2588\u2588\u2588\u2588\u2588\u2588\u2588\u2588\u2588\u2588\u2588\u2588\u2588\u2588\u2588\u2588\u2588\u2588\u2588\u2588\u2588\u2588\u2588\u2588\u2588\u2588\u2588\u2588\u2588\u2588\u2588\u2588| 215kB 5.1MB/s eta 0:00:01\n\u001b[?25hRequirement already up-to-date: six>=1.5 in /usr/local/src/conda3_runtime.v41/home/envs/DSX-Python35-Spark/lib/python3.5/site-packages (from python-dateutil>=2.5.0->pandas->systemml==1.1.0)\nBuilding wheels for collected packages: systemml\n  Running setup.py bdist_wheel for systemml ... \u001b[?25ldone\n\u001b[?25h  Stored in directory: /gpfs/fs01/user/s8af-a36c03f5ad3c29-6c4418a69e9e/.cache/pip/wheels/75/ca/50/f14a0f1cec72222376f5ced7749629ca44194d8245c2e4939d\nSuccessfully built systemml\nInstalling collected packages: numpy, scipy, pytz, python-dateutil, pandas, scikit-learn, Pillow, systemml\nSuccessfully installed Pillow-5.2.0 numpy-1.15.1 pandas-0.23.4 python-dateutil-2.7.3 pytz-2018.5 scikit-learn-0.19.2 scipy-1.1.0 systemml-1.1.0\n"
                }
            ], 
            "source": "! pip install --upgrade https://github.com/niketanpansare/future_of_data/raw/master/systemml-1.1.0-SNAPSHOT-python.tar.gz"
        }, 
        {
            "execution_count": 31, 
            "cell_type": "code", 
            "metadata": {}, 
            "outputs": [], 
            "source": "from sklearn import datasets\nimport numpy as np\nimport matplotlib.pyplot as plt\n% matplotlib inline"
        }, 
        {
            "execution_count": null, 
            "cell_type": "code", 
            "metadata": {}, 
            "outputs": [], 
            "source": ""
        }, 
        {
            "execution_count": 37, 
            "cell_type": "code", 
            "metadata": {}, 
            "outputs": [
                {
                    "output_type": "stream", 
                    "name": "stdout", 
                    "text": "(422, 1)\n(422, 1)\n"
                }, 
                {
                    "ename": "ValueError", 
                    "evalue": "all the input array dimensions except for the concatenation axis must match exactly", 
                    "traceback": [
                        "\u001b[0;31m---------------------------------------------------------------------------\u001b[0m", 
                        "\u001b[0;31mValueError\u001b[0m                                Traceback (most recent call last)", 
                        "\u001b[0;32m<ipython-input-37-f556b3a9359b>\u001b[0m in \u001b[0;36m<module>\u001b[0;34m()\u001b[0m\n\u001b[1;32m      8\u001b[0m \u001b[0mprint\u001b[0m\u001b[0;34m(\u001b[0m\u001b[0mdiabetes_X_train\u001b[0m\u001b[0;34m.\u001b[0m\u001b[0mshape\u001b[0m\u001b[0;34m)\u001b[0m\u001b[0;34m\u001b[0m\u001b[0m\n\u001b[1;32m      9\u001b[0m \u001b[0mprint\u001b[0m\u001b[0;34m(\u001b[0m\u001b[0mdiabetes_y_train\u001b[0m\u001b[0;34m.\u001b[0m\u001b[0mshape\u001b[0m\u001b[0;34m)\u001b[0m\u001b[0;34m\u001b[0m\u001b[0m\n\u001b[0;32m---> 10\u001b[0;31m \u001b[0mplt\u001b[0m\u001b[0;34m.\u001b[0m\u001b[0mscatter\u001b[0m\u001b[0;34m(\u001b[0m\u001b[0mdiabetes_X_train\u001b[0m\u001b[0;34m,\u001b[0m\u001b[0mdiabetes_y_train\u001b[0m\u001b[0;34m,\u001b[0m\u001b[0mcolor\u001b[0m\u001b[0;34m=\u001b[0m\u001b[0;34m'black'\u001b[0m\u001b[0;34m)\u001b[0m\u001b[0;34m\u001b[0m\u001b[0m\n\u001b[0m\u001b[1;32m     11\u001b[0m \u001b[0;31m#plt.scatter(diabetes_X_test,diabetes_y_test,color='red')\u001b[0m\u001b[0;34m\u001b[0m\u001b[0;34m\u001b[0m\u001b[0m\n", 
                        "\u001b[0;32m/usr/local/src/conda3_runtime/home/envs/DSX-Python35-Spark/lib/python3.5/site-packages/matplotlib/pyplot.py\u001b[0m in \u001b[0;36mscatter\u001b[0;34m(x, y, s, c, marker, cmap, norm, vmin, vmax, alpha, linewidths, verts, edgecolors, hold, data, **kwargs)\u001b[0m\n\u001b[1;32m   3355\u001b[0m                          \u001b[0mvmin\u001b[0m\u001b[0;34m=\u001b[0m\u001b[0mvmin\u001b[0m\u001b[0;34m,\u001b[0m \u001b[0mvmax\u001b[0m\u001b[0;34m=\u001b[0m\u001b[0mvmax\u001b[0m\u001b[0;34m,\u001b[0m \u001b[0malpha\u001b[0m\u001b[0;34m=\u001b[0m\u001b[0malpha\u001b[0m\u001b[0;34m,\u001b[0m\u001b[0;34m\u001b[0m\u001b[0m\n\u001b[1;32m   3356\u001b[0m                          \u001b[0mlinewidths\u001b[0m\u001b[0;34m=\u001b[0m\u001b[0mlinewidths\u001b[0m\u001b[0;34m,\u001b[0m \u001b[0mverts\u001b[0m\u001b[0;34m=\u001b[0m\u001b[0mverts\u001b[0m\u001b[0;34m,\u001b[0m\u001b[0;34m\u001b[0m\u001b[0m\n\u001b[0;32m-> 3357\u001b[0;31m                          edgecolors=edgecolors, data=data, **kwargs)\n\u001b[0m\u001b[1;32m   3358\u001b[0m     \u001b[0;32mfinally\u001b[0m\u001b[0;34m:\u001b[0m\u001b[0;34m\u001b[0m\u001b[0m\n\u001b[1;32m   3359\u001b[0m         \u001b[0max\u001b[0m\u001b[0;34m.\u001b[0m\u001b[0m_hold\u001b[0m \u001b[0;34m=\u001b[0m \u001b[0mwashold\u001b[0m\u001b[0;34m\u001b[0m\u001b[0m\n", 
                        "\u001b[0;32m/usr/local/src/conda3_runtime/home/envs/DSX-Python35-Spark/lib/python3.5/site-packages/matplotlib/__init__.py\u001b[0m in \u001b[0;36minner\u001b[0;34m(ax, *args, **kwargs)\u001b[0m\n\u001b[1;32m   1708\u001b[0m                     warnings.warn(msg % (label_namer, func.__name__),\n\u001b[1;32m   1709\u001b[0m                                   RuntimeWarning, stacklevel=2)\n\u001b[0;32m-> 1710\u001b[0;31m             \u001b[0;32mreturn\u001b[0m \u001b[0mfunc\u001b[0m\u001b[0;34m(\u001b[0m\u001b[0max\u001b[0m\u001b[0;34m,\u001b[0m \u001b[0;34m*\u001b[0m\u001b[0margs\u001b[0m\u001b[0;34m,\u001b[0m \u001b[0;34m**\u001b[0m\u001b[0mkwargs\u001b[0m\u001b[0;34m)\u001b[0m\u001b[0;34m\u001b[0m\u001b[0m\n\u001b[0m\u001b[1;32m   1711\u001b[0m         \u001b[0mpre_doc\u001b[0m \u001b[0;34m=\u001b[0m \u001b[0minner\u001b[0m\u001b[0;34m.\u001b[0m\u001b[0m__doc__\u001b[0m\u001b[0;34m\u001b[0m\u001b[0m\n\u001b[1;32m   1712\u001b[0m         \u001b[0;32mif\u001b[0m \u001b[0mpre_doc\u001b[0m \u001b[0;32mis\u001b[0m \u001b[0;32mNone\u001b[0m\u001b[0;34m:\u001b[0m\u001b[0;34m\u001b[0m\u001b[0m\n", 
                        "\u001b[0;32m/usr/local/src/conda3_runtime/home/envs/DSX-Python35-Spark/lib/python3.5/site-packages/matplotlib/axes/_axes.py\u001b[0m in \u001b[0;36mscatter\u001b[0;34m(self, x, y, s, c, marker, cmap, norm, vmin, vmax, alpha, linewidths, verts, edgecolors, **kwargs)\u001b[0m\n\u001b[1;32m   4085\u001b[0m             \u001b[0mlinewidths\u001b[0m \u001b[0;34m=\u001b[0m \u001b[0mrcParams\u001b[0m\u001b[0;34m[\u001b[0m\u001b[0;34m'lines.linewidth'\u001b[0m\u001b[0;34m]\u001b[0m\u001b[0;34m\u001b[0m\u001b[0m\n\u001b[1;32m   4086\u001b[0m \u001b[0;34m\u001b[0m\u001b[0m\n\u001b[0;32m-> 4087\u001b[0;31m         \u001b[0moffsets\u001b[0m \u001b[0;34m=\u001b[0m \u001b[0mnp\u001b[0m\u001b[0;34m.\u001b[0m\u001b[0mcolumn_stack\u001b[0m\u001b[0;34m(\u001b[0m\u001b[0;34m[\u001b[0m\u001b[0mx\u001b[0m\u001b[0;34m,\u001b[0m \u001b[0my\u001b[0m\u001b[0;34m]\u001b[0m\u001b[0;34m)\u001b[0m\u001b[0;34m\u001b[0m\u001b[0m\n\u001b[0m\u001b[1;32m   4088\u001b[0m \u001b[0;34m\u001b[0m\u001b[0m\n\u001b[1;32m   4089\u001b[0m         collection = mcoll.PathCollection(\n", 
                        "\u001b[0;32m/usr/local/src/conda3_runtime/home/envs/DSX-Python35-Spark/lib/python3.5/site-packages/numpy/lib/shape_base.py\u001b[0m in \u001b[0;36mcolumn_stack\u001b[0;34m(tup)\u001b[0m\n\u001b[1;32m    351\u001b[0m             \u001b[0marr\u001b[0m \u001b[0;34m=\u001b[0m \u001b[0marray\u001b[0m\u001b[0;34m(\u001b[0m\u001b[0marr\u001b[0m\u001b[0;34m,\u001b[0m \u001b[0mcopy\u001b[0m\u001b[0;34m=\u001b[0m\u001b[0;32mFalse\u001b[0m\u001b[0;34m,\u001b[0m \u001b[0msubok\u001b[0m\u001b[0;34m=\u001b[0m\u001b[0;32mTrue\u001b[0m\u001b[0;34m,\u001b[0m \u001b[0mndmin\u001b[0m\u001b[0;34m=\u001b[0m\u001b[0;36m2\u001b[0m\u001b[0;34m)\u001b[0m\u001b[0;34m.\u001b[0m\u001b[0mT\u001b[0m\u001b[0;34m\u001b[0m\u001b[0m\n\u001b[1;32m    352\u001b[0m         \u001b[0marrays\u001b[0m\u001b[0;34m.\u001b[0m\u001b[0mappend\u001b[0m\u001b[0;34m(\u001b[0m\u001b[0marr\u001b[0m\u001b[0;34m)\u001b[0m\u001b[0;34m\u001b[0m\u001b[0m\n\u001b[0;32m--> 353\u001b[0;31m     \u001b[0;32mreturn\u001b[0m \u001b[0m_nx\u001b[0m\u001b[0;34m.\u001b[0m\u001b[0mconcatenate\u001b[0m\u001b[0;34m(\u001b[0m\u001b[0marrays\u001b[0m\u001b[0;34m,\u001b[0m \u001b[0;36m1\u001b[0m\u001b[0;34m)\u001b[0m\u001b[0;34m\u001b[0m\u001b[0m\n\u001b[0m\u001b[1;32m    354\u001b[0m \u001b[0;34m\u001b[0m\u001b[0m\n\u001b[1;32m    355\u001b[0m \u001b[0;32mdef\u001b[0m \u001b[0mdstack\u001b[0m\u001b[0;34m(\u001b[0m\u001b[0mtup\u001b[0m\u001b[0;34m)\u001b[0m\u001b[0;34m:\u001b[0m\u001b[0;34m\u001b[0m\u001b[0m\n", 
                        "\u001b[0;31mValueError\u001b[0m: all the input array dimensions except for the concatenation axis must match exactly"
                    ], 
                    "output_type": "error"
                }, 
                {
                    "output_type": "display_data", 
                    "data": {
                        "image/png": "[encoded data removed]", 
                        "text/plain": "<matplotlib.figure.Figure at 0x7f43e8761550>"
                    }, 
                    "metadata": {}
                }
            ], 
            "source": "diabetes = datasets.load_diabetes()\ndiabetes_X = diabetes.data[:,np.newaxis,2]\ndiabetes_X_train = diabetes_X[:-20]\ndiabetes_X_test = diabetes_X[-20:]\ndiabetes_y_train = np.matrix(diabetes.target[:-20]).T\ndiabetes_y_test = np.matrix(diabetes.target[-20:]).T\n\nprint(diabetes_X_train.shape)\nprint(diabetes_y_train.shape)\nplt.scatter(diabetes_X_train,diabetes_y_train,color='black')\n#plt.scatter(diabetes_X_test,diabetes_y_test,color='red')"
        }, 
        {
            "execution_count": 26, 
            "cell_type": "code", 
            "metadata": {}, 
            "outputs": [
                {
                    "execution_count": 26, 
                    "metadata": {}, 
                    "data": {
                        "text/plain": "matrix([[ 151.],\n        [  75.],\n        [ 141.],\n        [ 206.],\n        [ 135.],\n        [  97.],\n        [ 138.],\n        [  63.],\n        [ 110.],\n        [ 310.],\n        [ 101.],\n        [  69.],\n        [ 179.],\n        [ 185.],\n        [ 118.],\n        [ 171.],\n        [ 166.],\n        [ 144.],\n        [  97.],\n        [ 168.],\n        [  68.],\n        [  49.],\n        [  68.],\n        [ 245.],\n        [ 184.],\n        [ 202.],\n        [ 137.],\n        [  85.],\n        [ 131.],\n        [ 283.],\n        [ 129.],\n        [  59.],\n        [ 341.],\n        [  87.],\n        [  65.],\n        [ 102.],\n        [ 265.],\n        [ 276.],\n        [ 252.],\n        [  90.],\n        [ 100.],\n        [  55.],\n        [  61.],\n        [  92.],\n        [ 259.],\n        [  53.],\n        [ 190.],\n        [ 142.],\n        [  75.],\n        [ 142.],\n        [ 155.],\n        [ 225.],\n        [  59.],\n        [ 104.],\n        [ 182.],\n        [ 128.],\n        [  52.],\n        [  37.],\n        [ 170.],\n        [ 170.],\n        [  61.],\n        [ 144.],\n        [  52.],\n        [ 128.],\n        [  71.],\n        [ 163.],\n        [ 150.],\n        [  97.],\n        [ 160.],\n        [ 178.],\n        [  48.],\n        [ 270.],\n        [ 202.],\n        [ 111.],\n        [  85.],\n        [  42.],\n        [ 170.],\n        [ 200.],\n        [ 252.],\n        [ 113.],\n        [ 143.],\n        [  51.],\n        [  52.],\n        [ 210.],\n        [  65.],\n        [ 141.],\n        [  55.],\n        [ 134.],\n        [  42.],\n        [ 111.],\n        [  98.],\n        [ 164.],\n        [  48.],\n        [  96.],\n        [  90.],\n        [ 162.],\n        [ 150.],\n        [ 279.],\n        [  92.],\n        [  83.],\n        [ 128.],\n        [ 102.],\n        [ 302.],\n        [ 198.],\n        [  95.],\n        [  53.],\n        [ 134.],\n        [ 144.],\n        [ 232.],\n        [  81.],\n        [ 104.],\n        [  59.],\n        [ 246.],\n        [ 297.],\n        [ 258.],\n        [ 229.],\n        [ 275.],\n        [ 281.],\n        [ 179.],\n        [ 200.],\n        [ 200.],\n        [ 173.],\n        [ 180.],\n        [  84.],\n        [ 121.],\n        [ 161.],\n        [  99.],\n        [ 109.],\n        [ 115.],\n        [ 268.],\n        [ 274.],\n        [ 158.],\n        [ 107.],\n        [  83.],\n        [ 103.],\n        [ 272.],\n        [  85.],\n        [ 280.],\n        [ 336.],\n        [ 281.],\n        [ 118.],\n        [ 317.],\n        [ 235.],\n        [  60.],\n        [ 174.],\n        [ 259.],\n        [ 178.],\n        [ 128.],\n        [  96.],\n        [ 126.],\n        [ 288.],\n        [  88.],\n        [ 292.],\n        [  71.],\n        [ 197.],\n        [ 186.],\n        [  25.],\n        [  84.],\n        [  96.],\n        [ 195.],\n        [  53.],\n        [ 217.],\n        [ 172.],\n        [ 131.],\n        [ 214.],\n        [  59.],\n        [  70.],\n        [ 220.],\n        [ 268.],\n        [ 152.],\n        [  47.],\n        [  74.],\n        [ 295.],\n        [ 101.],\n        [ 151.],\n        [ 127.],\n        [ 237.],\n        [ 225.],\n        [  81.],\n        [ 151.],\n        [ 107.],\n        [  64.],\n        [ 138.],\n        [ 185.],\n        [ 265.],\n        [ 101.],\n        [ 137.],\n        [ 143.],\n        [ 141.],\n        [  79.],\n        [ 292.],\n        [ 178.],\n        [  91.],\n        [ 116.],\n        [  86.],\n        [ 122.],\n        [  72.],\n        [ 129.],\n        [ 142.],\n        [  90.],\n        [ 158.],\n        [  39.],\n        [ 196.],\n        [ 222.],\n        [ 277.],\n        [  99.],\n        [ 196.],\n        [ 202.],\n        [ 155.],\n        [  77.],\n        [ 191.],\n        [  70.],\n        [  73.],\n        [  49.],\n        [  65.],\n        [ 263.],\n        [ 248.],\n        [ 296.],\n        [ 214.],\n        [ 185.],\n        [  78.],\n        [  93.],\n        [ 252.],\n        [ 150.],\n        [  77.],\n        [ 208.],\n        [  77.],\n        [ 108.],\n        [ 160.],\n        [  53.],\n        [ 220.],\n        [ 154.],\n        [ 259.],\n        [  90.],\n        [ 246.],\n        [ 124.],\n        [  67.],\n        [  72.],\n        [ 257.],\n        [ 262.],\n        [ 275.],\n        [ 177.],\n        [  71.],\n        [  47.],\n        [ 187.],\n        [ 125.],\n        [  78.],\n        [  51.],\n        [ 258.],\n        [ 215.],\n        [ 303.],\n        [ 243.],\n        [  91.],\n        [ 150.],\n        [ 310.],\n        [ 153.],\n        [ 346.],\n        [  63.],\n        [  89.],\n        [  50.],\n        [  39.],\n        [ 103.],\n        [ 308.],\n        [ 116.],\n        [ 145.],\n        [  74.],\n        [  45.],\n        [ 115.],\n        [ 264.],\n        [  87.],\n        [ 202.],\n        [ 127.],\n        [ 182.],\n        [ 241.],\n        [  66.],\n        [  94.],\n        [ 283.],\n        [  64.],\n        [ 102.],\n        [ 200.],\n        [ 265.],\n        [  94.],\n        [ 230.],\n        [ 181.],\n        [ 156.],\n        [ 233.],\n        [  60.],\n        [ 219.],\n        [  80.],\n        [  68.],\n        [ 332.],\n        [ 248.],\n        [  84.],\n        [ 200.],\n        [  55.],\n        [  85.],\n        [  89.],\n        [  31.],\n        [ 129.],\n        [  83.],\n        [ 275.],\n        [  65.],\n        [ 198.],\n        [ 236.],\n        [ 253.],\n        [ 124.],\n        [  44.],\n        [ 172.],\n        [ 114.],\n        [ 142.],\n        [ 109.],\n        [ 180.],\n        [ 144.],\n        [ 163.],\n        [ 147.],\n        [  97.],\n        [ 220.],\n        [ 190.],\n        [ 109.],\n        [ 191.],\n        [ 122.],\n        [ 230.],\n        [ 242.],\n        [ 248.],\n        [ 249.],\n        [ 192.],\n        [ 131.],\n        [ 237.],\n        [  78.],\n        [ 135.],\n        [ 244.],\n        [ 199.],\n        [ 270.],\n        [ 164.],\n        [  72.],\n        [  96.],\n        [ 306.],\n        [  91.],\n        [ 214.],\n        [  95.],\n        [ 216.],\n        [ 263.],\n        [ 178.],\n        [ 113.],\n        [ 200.],\n        [ 139.],\n        [ 139.],\n        [  88.],\n        [ 148.],\n        [  88.],\n        [ 243.],\n        [  71.],\n        [  77.],\n        [ 109.],\n        [ 272.],\n        [  60.],\n        [  54.],\n        [ 221.],\n        [  90.],\n        [ 311.],\n        [ 281.],\n        [ 182.],\n        [ 321.],\n        [  58.],\n        [ 262.],\n        [ 206.],\n        [ 233.],\n        [ 242.],\n        [ 123.],\n        [ 167.],\n        [  63.],\n        [ 197.],\n        [  71.],\n        [ 168.],\n        [ 140.],\n        [ 217.],\n        [ 121.],\n        [ 235.],\n        [ 245.],\n        [  40.],\n        [  52.],\n        [ 104.],\n        [ 132.],\n        [  88.],\n        [  69.],\n        [ 219.],\n        [  72.],\n        [ 201.],\n        [ 110.],\n        [  51.],\n        [ 277.],\n        [  63.],\n        [ 118.],\n        [  69.],\n        [ 273.],\n        [ 258.],\n        [  43.],\n        [ 198.],\n        [ 242.],\n        [ 232.],\n        [ 175.],\n        [  93.],\n        [ 168.],\n        [ 275.],\n        [ 293.],\n        [ 281.],\n        [  72.],\n        [ 140.],\n        [ 189.],\n        [ 181.],\n        [ 209.],\n        [ 136.],\n        [ 261.],\n        [ 113.],\n        [ 131.],\n        [ 174.],\n        [ 257.],\n        [  55.],\n        [  84.],\n        [  42.],\n        [ 146.],\n        [ 212.]])"
                    }, 
                    "output_type": "execute_result"
                }
            ], 
            "source": "diabetes_y_train"
        }, 
        {
            "source": "# Linear Regression Direct Solve (No Regularization)", 
            "cell_type": "markdown", 
            "metadata": {}
        }, 
        {
            "execution_count": 38, 
            "cell_type": "code", 
            "metadata": {}, 
            "outputs": [
                {
                    "output_type": "stream", 
                    "name": "stdout", 
                    "text": "Archiver-Version: Plexus Archiver\nArtifact-Id: systemml\nBuild-Jdk: 1.8.0_121\nBuild-Time: 2017-09-08 08:50:38 UTC\nBuilt-By: asurve\nCreated-By: Apache Maven 3.3.9\nGroup-Id: org.apache.systemml\nMain-Class: org.apache.sysml.api.DMLScript\nManifest-Version: 1.0\nMinimum-Recommended-Spark-Version: 2.1.0\nVersion: 0.15.0\n\n"
                }
            ], 
            "source": "from systemml import MLContext, dml\n\n# create a MLContext object\nml = MLContext(sc)\nprint(ml.info())"
        }, 
        {
            "execution_count": 39, 
            "cell_type": "code", 
            "metadata": {}, 
            "outputs": [], 
            "source": "script = \"\"\"\n    # Add constant feature to X to model intercept\n    ones = matrix(1,rows=nrow(X),cols=1)\n    X = cbind(X,ones)\n    A = t(X) %*% X\n    b = t(X) %*% y\n    w = solve(A,b)\n    bias = as.scalar(w[nrow(w),1])\n    w = w[1:nrow(w)-1,]\n\"\"\""
        }, 
        {
            "execution_count": 40, 
            "cell_type": "code", 
            "metadata": {}, 
            "outputs": [
                {
                    "output_type": "stream", 
                    "name": "stdout", 
                    "text": "SystemML Statistics:\nTotal execution time:\t\t0.048 sec.\nNumber of executed Spark inst:\t2.\n\n\n"
                }
            ], 
            "source": "prog = dml(script).input(X=diabetes_X_train,y=diabetes_y_train).output('w','bias')\nw, bias = ml.execute(prog).get('w','bias')\nw = w.toNumPy()"
        }, 
        {
            "execution_count": null, 
            "cell_type": "code", 
            "metadata": {}, 
            "outputs": [], 
            "source": "plt.scatter(diabetes_X_train,diabetes_y_train,color='b')"
        }
    ], 
    "metadata": {
        "kernelspec": {
            "display_name": "Python 3.5 with Spark 2.1", 
            "name": "python3-spark21", 
            "language": "python"
        }, 
        "language_info": {
            "mimetype": "text/x-python", 
            "nbconvert_exporter": "python", 
            "version": "3.5.4", 
            "name": "python", 
            "file_extension": ".py", 
            "pygments_lexer": "ipython3", 
            "codemirror_mode": {
                "version": 3, 
                "name": "ipython"
            }
        }
    }, 
    "nbformat": 4
}